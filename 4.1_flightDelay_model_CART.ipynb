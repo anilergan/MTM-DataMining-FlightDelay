{
 "cells": [
  {
   "cell_type": "code",
   "execution_count": 1,
   "metadata": {},
   "outputs": [],
   "source": [
    "from sklearn.model_selection import train_test_split, cross_validate\n",
    "from sklearn.tree import DecisionTreeClassifier\n",
    "from sklearn.metrics import accuracy_score, confusion_matrix, precision_score, recall_score, f1_score  \n",
    "import pandas as pd\n",
    "import numpy as np"
   ]
  },
  {
   "cell_type": "code",
   "execution_count": 6,
   "metadata": {},
   "outputs": [],
   "source": [
    "path = r'G:\\Other computers\\My Laptop D14\\Belgeler\\CODING\\Python.PROJECTS\\MTM-DataMining-FlightDelay\\manipulated_data\\flightDelay_preprocessed_for_DT.csv'\n",
    "\n",
    "data = pd.read_csv(path)\n",
    "\n",
    "df = data.copy()"
   ]
  },
  {
   "cell_type": "code",
   "execution_count": 7,
   "metadata": {},
   "outputs": [
    {
     "data": {
      "text/html": [
       "<div>\n",
       "<style scoped>\n",
       "    .dataframe tbody tr th:only-of-type {\n",
       "        vertical-align: middle;\n",
       "    }\n",
       "\n",
       "    .dataframe tbody tr th {\n",
       "        vertical-align: top;\n",
       "    }\n",
       "\n",
       "    .dataframe thead th {\n",
       "        text-align: right;\n",
       "    }\n",
       "</style>\n",
       "<table border=\"1\" class=\"dataframe\">\n",
       "  <thead>\n",
       "    <tr style=\"text-align: right;\">\n",
       "      <th></th>\n",
       "      <th>Flight_Number_Marketing_Airline</th>\n",
       "      <th>AirTime</th>\n",
       "      <th>DepTimeBlk_Encoded</th>\n",
       "      <th>OriginAirport_Encoded</th>\n",
       "      <th>Target</th>\n",
       "    </tr>\n",
       "  </thead>\n",
       "  <tbody>\n",
       "    <tr>\n",
       "      <th>0</th>\n",
       "      <td>1582</td>\n",
       "      <td>93.0</td>\n",
       "      <td>10</td>\n",
       "      <td>15</td>\n",
       "      <td>2</td>\n",
       "    </tr>\n",
       "    <tr>\n",
       "      <th>1</th>\n",
       "      <td>1583</td>\n",
       "      <td>93.0</td>\n",
       "      <td>4</td>\n",
       "      <td>100</td>\n",
       "      <td>1</td>\n",
       "    </tr>\n",
       "    <tr>\n",
       "      <th>2</th>\n",
       "      <td>1586</td>\n",
       "      <td>178.0</td>\n",
       "      <td>4</td>\n",
       "      <td>196</td>\n",
       "      <td>0</td>\n",
       "    </tr>\n",
       "    <tr>\n",
       "      <th>3</th>\n",
       "      <td>1587</td>\n",
       "      <td>55.0</td>\n",
       "      <td>8</td>\n",
       "      <td>15</td>\n",
       "      <td>0</td>\n",
       "    </tr>\n",
       "    <tr>\n",
       "      <th>4</th>\n",
       "      <td>1587</td>\n",
       "      <td>67.0</td>\n",
       "      <td>10</td>\n",
       "      <td>231</td>\n",
       "      <td>2</td>\n",
       "    </tr>\n",
       "  </tbody>\n",
       "</table>\n",
       "</div>"
      ],
      "text/plain": [
       "   Flight_Number_Marketing_Airline  AirTime  DepTimeBlk_Encoded  \\\n",
       "0                             1582     93.0                  10   \n",
       "1                             1583     93.0                   4   \n",
       "2                             1586    178.0                   4   \n",
       "3                             1587     55.0                   8   \n",
       "4                             1587     67.0                  10   \n",
       "\n",
       "   OriginAirport_Encoded  Target  \n",
       "0                     15       2  \n",
       "1                    100       1  \n",
       "2                    196       0  \n",
       "3                     15       0  \n",
       "4                    231       2  "
      ]
     },
     "execution_count": 7,
     "metadata": {},
     "output_type": "execute_result"
    }
   ],
   "source": [
    "df.head()"
   ]
  },
  {
   "cell_type": "code",
   "execution_count": 4,
   "metadata": {},
   "outputs": [],
   "source": [
    "y = df['Target'].values\n",
    "X = df.drop('Target', axis=1).values"
   ]
  },
  {
   "cell_type": "code",
   "execution_count": 5,
   "metadata": {},
   "outputs": [],
   "source": [
    "np.set_printoptions(suppress=True)"
   ]
  },
  {
   "cell_type": "code",
   "execution_count": 6,
   "metadata": {},
   "outputs": [
    {
     "data": {
      "text/plain": [
       "array([[1582.,   93.,   10.,   15.],\n",
       "       [1583.,   93.,    4.,  100.],\n",
       "       [1586.,  178.,    4.,  196.],\n",
       "       ...,\n",
       "       [5951.,  103.,    4.,  228.],\n",
       "       [5951.,  102.,    4.,  228.],\n",
       "       [5951.,  103.,    4.,  228.]])"
      ]
     },
     "execution_count": 6,
     "metadata": {},
     "output_type": "execute_result"
    }
   ],
   "source": [
    "X #Öznitelikler "
   ]
  },
  {
   "cell_type": "code",
   "execution_count": 7,
   "metadata": {},
   "outputs": [
    {
     "data": {
      "text/plain": [
       "array([2, 1, 0, ..., 0, 0, 0], dtype=int64)"
      ]
     },
     "execution_count": 7,
     "metadata": {},
     "output_type": "execute_result"
    }
   ],
   "source": [
    "y #Hedef değişken"
   ]
  },
  {
   "cell_type": "code",
   "execution_count": 8,
   "metadata": {},
   "outputs": [],
   "source": [
    "X_train, X_test, y_train, y_test = train_test_split(X, y, test_size=0.2, random_state=23)"
   ]
  },
  {
   "cell_type": "code",
   "execution_count": 9,
   "metadata": {},
   "outputs": [
    {
     "data": {
      "text/html": [
       "<style>#sk-container-id-1 {color: black;}#sk-container-id-1 pre{padding: 0;}#sk-container-id-1 div.sk-toggleable {background-color: white;}#sk-container-id-1 label.sk-toggleable__label {cursor: pointer;display: block;width: 100%;margin-bottom: 0;padding: 0.3em;box-sizing: border-box;text-align: center;}#sk-container-id-1 label.sk-toggleable__label-arrow:before {content: \"▸\";float: left;margin-right: 0.25em;color: #696969;}#sk-container-id-1 label.sk-toggleable__label-arrow:hover:before {color: black;}#sk-container-id-1 div.sk-estimator:hover label.sk-toggleable__label-arrow:before {color: black;}#sk-container-id-1 div.sk-toggleable__content {max-height: 0;max-width: 0;overflow: hidden;text-align: left;background-color: #f0f8ff;}#sk-container-id-1 div.sk-toggleable__content pre {margin: 0.2em;color: black;border-radius: 0.25em;background-color: #f0f8ff;}#sk-container-id-1 input.sk-toggleable__control:checked~div.sk-toggleable__content {max-height: 200px;max-width: 100%;overflow: auto;}#sk-container-id-1 input.sk-toggleable__control:checked~label.sk-toggleable__label-arrow:before {content: \"▾\";}#sk-container-id-1 div.sk-estimator input.sk-toggleable__control:checked~label.sk-toggleable__label {background-color: #d4ebff;}#sk-container-id-1 div.sk-label input.sk-toggleable__control:checked~label.sk-toggleable__label {background-color: #d4ebff;}#sk-container-id-1 input.sk-hidden--visually {border: 0;clip: rect(1px 1px 1px 1px);clip: rect(1px, 1px, 1px, 1px);height: 1px;margin: -1px;overflow: hidden;padding: 0;position: absolute;width: 1px;}#sk-container-id-1 div.sk-estimator {font-family: monospace;background-color: #f0f8ff;border: 1px dotted black;border-radius: 0.25em;box-sizing: border-box;margin-bottom: 0.5em;}#sk-container-id-1 div.sk-estimator:hover {background-color: #d4ebff;}#sk-container-id-1 div.sk-parallel-item::after {content: \"\";width: 100%;border-bottom: 1px solid gray;flex-grow: 1;}#sk-container-id-1 div.sk-label:hover label.sk-toggleable__label {background-color: #d4ebff;}#sk-container-id-1 div.sk-serial::before {content: \"\";position: absolute;border-left: 1px solid gray;box-sizing: border-box;top: 0;bottom: 0;left: 50%;z-index: 0;}#sk-container-id-1 div.sk-serial {display: flex;flex-direction: column;align-items: center;background-color: white;padding-right: 0.2em;padding-left: 0.2em;position: relative;}#sk-container-id-1 div.sk-item {position: relative;z-index: 1;}#sk-container-id-1 div.sk-parallel {display: flex;align-items: stretch;justify-content: center;background-color: white;position: relative;}#sk-container-id-1 div.sk-item::before, #sk-container-id-1 div.sk-parallel-item::before {content: \"\";position: absolute;border-left: 1px solid gray;box-sizing: border-box;top: 0;bottom: 0;left: 50%;z-index: -1;}#sk-container-id-1 div.sk-parallel-item {display: flex;flex-direction: column;z-index: 1;position: relative;background-color: white;}#sk-container-id-1 div.sk-parallel-item:first-child::after {align-self: flex-end;width: 50%;}#sk-container-id-1 div.sk-parallel-item:last-child::after {align-self: flex-start;width: 50%;}#sk-container-id-1 div.sk-parallel-item:only-child::after {width: 0;}#sk-container-id-1 div.sk-dashed-wrapped {border: 1px dashed gray;margin: 0 0.4em 0.5em 0.4em;box-sizing: border-box;padding-bottom: 0.4em;background-color: white;}#sk-container-id-1 div.sk-label label {font-family: monospace;font-weight: bold;display: inline-block;line-height: 1.2em;}#sk-container-id-1 div.sk-label-container {text-align: center;}#sk-container-id-1 div.sk-container {/* jupyter's `normalize.less` sets `[hidden] { display: none; }` but bootstrap.min.css set `[hidden] { display: none !important; }` so we also need the `!important` here to be able to override the default hidden behavior on the sphinx rendered scikit-learn.org. See: https://github.com/scikit-learn/scikit-learn/issues/21755 */display: inline-block !important;position: relative;}#sk-container-id-1 div.sk-text-repr-fallback {display: none;}</style><div id=\"sk-container-id-1\" class=\"sk-top-container\"><div class=\"sk-text-repr-fallback\"><pre>DecisionTreeClassifier(random_state=23)</pre><b>In a Jupyter environment, please rerun this cell to show the HTML representation or trust the notebook. <br />On GitHub, the HTML representation is unable to render, please try loading this page with nbviewer.org.</b></div><div class=\"sk-container\" hidden><div class=\"sk-item\"><div class=\"sk-estimator sk-toggleable\"><input class=\"sk-toggleable__control sk-hidden--visually\" id=\"sk-estimator-id-1\" type=\"checkbox\" checked><label for=\"sk-estimator-id-1\" class=\"sk-toggleable__label sk-toggleable__label-arrow\">DecisionTreeClassifier</label><div class=\"sk-toggleable__content\"><pre>DecisionTreeClassifier(random_state=23)</pre></div></div></div></div></div>"
      ],
      "text/plain": [
       "DecisionTreeClassifier(random_state=23)"
      ]
     },
     "execution_count": 9,
     "metadata": {},
     "output_type": "execute_result"
    }
   ],
   "source": [
    "model = DecisionTreeClassifier(random_state=23)\n",
    "model.fit(X_train, y_train)"
   ]
  },
  {
   "cell_type": "code",
   "execution_count": 10,
   "metadata": {},
   "outputs": [
    {
     "name": "stdout",
     "output_type": "stream",
     "text": [
      "Accuracy: 0.4117523389046568\n",
      "\n",
      "Confusion Matrix:\n",
      " [[3531 3126 3016]\n",
      " [3681 6932 3737]\n",
      " [4129 4695 5205]]\n"
     ]
    }
   ],
   "source": [
    "y_pred = model.predict(X_test)\n",
    "\n",
    "print(\"Accuracy:\", accuracy_score(y_test, y_pred))\n",
    "print(\"\\nConfusion Matrix:\\n\", confusion_matrix(y_test, y_pred))"
   ]
  },
  {
   "cell_type": "markdown",
   "metadata": {},
   "source": [
    "### Cross Validation"
   ]
  },
  {
   "cell_type": "code",
   "execution_count": 11,
   "metadata": {},
   "outputs": [
    {
     "name": "stdout",
     "output_type": "stream",
     "text": [
      "Test Seti Accuracy Skorları: [0.30400505 0.27312625 0.2286345  0.29685693 0.32979422]\n",
      "Test Seti Accuracy Ortalaması:  0.29\n",
      "Eğitim Seti Accuracy Skorları: [0.82231435 0.81407557 0.81952867 0.82719586 0.8204168 ]\n",
      "Eğitim Seti Accuracy Ortalaması:  0.82\n"
     ]
    }
   ],
   "source": [
    "model = DecisionTreeClassifier(random_state=23)\n",
    "\n",
    "# Cross-validation işlemi\n",
    "cv_results = cross_validate(model, X, y, cv=5, scoring='accuracy', return_train_score=True)\n",
    "\n",
    "# Test seti üzerindeki skorlar\n",
    "test_scores = cv_results['test_score']\n",
    "print(\"Test Seti Accuracy Skorları:\", test_scores)\n",
    "print('Test Seti Accuracy Ortalaması: ',round(test_scores.mean(), 2))\n",
    "\n",
    "# Eğitim seti üzerindeki skorlar\n",
    "train_scores = cv_results['train_score']\n",
    "print(\"Eğitim Seti Accuracy Skorları:\", train_scores)\n",
    "print('Eğitim Seti Accuracy Ortalaması: ',round(train_scores.mean(), 2))\n"
   ]
  },
  {
   "cell_type": "markdown",
   "metadata": {},
   "source": [
    "Şuana kadar görülebileceği üzere modelin test performansı oldukça düşüktür. Oysaki Train seti üzerinde hatırı sayılır bir performans sergilediği söylenebilir. Bu durumda modelin **overfitting** yani **aşırı öğrenme** durumu yaşadığı söylenebilir. Bu durumun önüne geçebilmek için, karar ağaçlarında **pruning** yani **budama** işlemi gerçekleştirilmelidir.\n",
    "\n",
    "Modeli varsayılan parametreler ile kullanmak çok verimli bir yaklaşım sağlamamaktadır. Model optimizasyonu gerçekleştirip yeniden deneyelim."
   ]
  },
  {
   "cell_type": "markdown",
   "metadata": {},
   "source": [
    "### Decision Tree Model Tune"
   ]
  },
  {
   "cell_type": "markdown",
   "metadata": {},
   "source": [
    "Pruning, ağacın aşırı öğrenmeyi önlemek ve genelleme yeteneğini artırmak için gereksiz dallarını kesme işlemidir. Pruning için kullanılan bazı önemli parametreleri anlamak için aşağıdaki açıklamalara göz atalım:\n",
    "\n",
    "**max_depth**: Ağacın maksimum derinliğini belirtir. Bu, ağacın kaç seviye derinliğe kadar inşa edileceğini kontrol eder. Daha düşük bir max_depth değeri, ağacın daha küçük ve daha basit olmasını sağlar. _Varsayılan değer: None_\n",
    "\n",
    "**min_samples_split**: Bir iç düğümü bölmek için gereken minimum örnek sayısını belirtir. Düşük değerler, ağacın daha fazla bölünme yapmasına neden olabilir. _Varsayılan değer: 2_\n",
    "\n",
    "**min_samples_leaf**: Bir yaprağın minimum örnek sayısını belirtir. Düşük değerler, yaprakların daha az örnek içermesine ve böylece daha fazla ayrıntıya inmesine neden olabilir.  _Varsayılan değer: 1_\n",
    "\n",
    "**max_features**: Her bir bölme noktasında göz önünde bulundurulacak maksimum özellik sayısını belirtir. Daha küçük bir değer seçmek, ağacın daha fazla rastgelelik eklemesini sağlar.  _Varsayılan değer: None_"
   ]
  },
  {
   "cell_type": "code",
   "execution_count": 16,
   "metadata": {},
   "outputs": [
    {
     "data": {
      "text/html": [
       "<style>#sk-container-id-3 {color: black;}#sk-container-id-3 pre{padding: 0;}#sk-container-id-3 div.sk-toggleable {background-color: white;}#sk-container-id-3 label.sk-toggleable__label {cursor: pointer;display: block;width: 100%;margin-bottom: 0;padding: 0.3em;box-sizing: border-box;text-align: center;}#sk-container-id-3 label.sk-toggleable__label-arrow:before {content: \"▸\";float: left;margin-right: 0.25em;color: #696969;}#sk-container-id-3 label.sk-toggleable__label-arrow:hover:before {color: black;}#sk-container-id-3 div.sk-estimator:hover label.sk-toggleable__label-arrow:before {color: black;}#sk-container-id-3 div.sk-toggleable__content {max-height: 0;max-width: 0;overflow: hidden;text-align: left;background-color: #f0f8ff;}#sk-container-id-3 div.sk-toggleable__content pre {margin: 0.2em;color: black;border-radius: 0.25em;background-color: #f0f8ff;}#sk-container-id-3 input.sk-toggleable__control:checked~div.sk-toggleable__content {max-height: 200px;max-width: 100%;overflow: auto;}#sk-container-id-3 input.sk-toggleable__control:checked~label.sk-toggleable__label-arrow:before {content: \"▾\";}#sk-container-id-3 div.sk-estimator input.sk-toggleable__control:checked~label.sk-toggleable__label {background-color: #d4ebff;}#sk-container-id-3 div.sk-label input.sk-toggleable__control:checked~label.sk-toggleable__label {background-color: #d4ebff;}#sk-container-id-3 input.sk-hidden--visually {border: 0;clip: rect(1px 1px 1px 1px);clip: rect(1px, 1px, 1px, 1px);height: 1px;margin: -1px;overflow: hidden;padding: 0;position: absolute;width: 1px;}#sk-container-id-3 div.sk-estimator {font-family: monospace;background-color: #f0f8ff;border: 1px dotted black;border-radius: 0.25em;box-sizing: border-box;margin-bottom: 0.5em;}#sk-container-id-3 div.sk-estimator:hover {background-color: #d4ebff;}#sk-container-id-3 div.sk-parallel-item::after {content: \"\";width: 100%;border-bottom: 1px solid gray;flex-grow: 1;}#sk-container-id-3 div.sk-label:hover label.sk-toggleable__label {background-color: #d4ebff;}#sk-container-id-3 div.sk-serial::before {content: \"\";position: absolute;border-left: 1px solid gray;box-sizing: border-box;top: 0;bottom: 0;left: 50%;z-index: 0;}#sk-container-id-3 div.sk-serial {display: flex;flex-direction: column;align-items: center;background-color: white;padding-right: 0.2em;padding-left: 0.2em;position: relative;}#sk-container-id-3 div.sk-item {position: relative;z-index: 1;}#sk-container-id-3 div.sk-parallel {display: flex;align-items: stretch;justify-content: center;background-color: white;position: relative;}#sk-container-id-3 div.sk-item::before, #sk-container-id-3 div.sk-parallel-item::before {content: \"\";position: absolute;border-left: 1px solid gray;box-sizing: border-box;top: 0;bottom: 0;left: 50%;z-index: -1;}#sk-container-id-3 div.sk-parallel-item {display: flex;flex-direction: column;z-index: 1;position: relative;background-color: white;}#sk-container-id-3 div.sk-parallel-item:first-child::after {align-self: flex-end;width: 50%;}#sk-container-id-3 div.sk-parallel-item:last-child::after {align-self: flex-start;width: 50%;}#sk-container-id-3 div.sk-parallel-item:only-child::after {width: 0;}#sk-container-id-3 div.sk-dashed-wrapped {border: 1px dashed gray;margin: 0 0.4em 0.5em 0.4em;box-sizing: border-box;padding-bottom: 0.4em;background-color: white;}#sk-container-id-3 div.sk-label label {font-family: monospace;font-weight: bold;display: inline-block;line-height: 1.2em;}#sk-container-id-3 div.sk-label-container {text-align: center;}#sk-container-id-3 div.sk-container {/* jupyter's `normalize.less` sets `[hidden] { display: none; }` but bootstrap.min.css set `[hidden] { display: none !important; }` so we also need the `!important` here to be able to override the default hidden behavior on the sphinx rendered scikit-learn.org. See: https://github.com/scikit-learn/scikit-learn/issues/21755 */display: inline-block !important;position: relative;}#sk-container-id-3 div.sk-text-repr-fallback {display: none;}</style><div id=\"sk-container-id-3\" class=\"sk-top-container\"><div class=\"sk-text-repr-fallback\"><pre>GridSearchCV(cv=5, estimator=DecisionTreeClassifier(random_state=23),\n",
       "             param_grid={&#x27;max_depth&#x27;: [None, 10, 20, 30, 50, 75],\n",
       "                         &#x27;max_features&#x27;: [None, &#x27;sqrt&#x27;, &#x27;log2&#x27;, 2, 3, 4, 5],\n",
       "                         &#x27;min_samples_leaf&#x27;: [1, 2, 4, 6, 10],\n",
       "                         &#x27;min_samples_split&#x27;: [2, 3, 5, 7, 10]},\n",
       "             return_train_score=True, scoring=&#x27;accuracy&#x27;)</pre><b>In a Jupyter environment, please rerun this cell to show the HTML representation or trust the notebook. <br />On GitHub, the HTML representation is unable to render, please try loading this page with nbviewer.org.</b></div><div class=\"sk-container\" hidden><div class=\"sk-item sk-dashed-wrapped\"><div class=\"sk-label-container\"><div class=\"sk-label sk-toggleable\"><input class=\"sk-toggleable__control sk-hidden--visually\" id=\"sk-estimator-id-5\" type=\"checkbox\" ><label for=\"sk-estimator-id-5\" class=\"sk-toggleable__label sk-toggleable__label-arrow\">GridSearchCV</label><div class=\"sk-toggleable__content\"><pre>GridSearchCV(cv=5, estimator=DecisionTreeClassifier(random_state=23),\n",
       "             param_grid={&#x27;max_depth&#x27;: [None, 10, 20, 30, 50, 75],\n",
       "                         &#x27;max_features&#x27;: [None, &#x27;sqrt&#x27;, &#x27;log2&#x27;, 2, 3, 4, 5],\n",
       "                         &#x27;min_samples_leaf&#x27;: [1, 2, 4, 6, 10],\n",
       "                         &#x27;min_samples_split&#x27;: [2, 3, 5, 7, 10]},\n",
       "             return_train_score=True, scoring=&#x27;accuracy&#x27;)</pre></div></div></div><div class=\"sk-parallel\"><div class=\"sk-parallel-item\"><div class=\"sk-item\"><div class=\"sk-label-container\"><div class=\"sk-label sk-toggleable\"><input class=\"sk-toggleable__control sk-hidden--visually\" id=\"sk-estimator-id-6\" type=\"checkbox\" ><label for=\"sk-estimator-id-6\" class=\"sk-toggleable__label sk-toggleable__label-arrow\">estimator: DecisionTreeClassifier</label><div class=\"sk-toggleable__content\"><pre>DecisionTreeClassifier(random_state=23)</pre></div></div></div><div class=\"sk-serial\"><div class=\"sk-item\"><div class=\"sk-estimator sk-toggleable\"><input class=\"sk-toggleable__control sk-hidden--visually\" id=\"sk-estimator-id-7\" type=\"checkbox\" ><label for=\"sk-estimator-id-7\" class=\"sk-toggleable__label sk-toggleable__label-arrow\">DecisionTreeClassifier</label><div class=\"sk-toggleable__content\"><pre>DecisionTreeClassifier(random_state=23)</pre></div></div></div></div></div></div></div></div></div></div>"
      ],
      "text/plain": [
       "GridSearchCV(cv=5, estimator=DecisionTreeClassifier(random_state=23),\n",
       "             param_grid={'max_depth': [None, 10, 20, 30, 50, 75],\n",
       "                         'max_features': [None, 'sqrt', 'log2', 2, 3, 4, 5],\n",
       "                         'min_samples_leaf': [1, 2, 4, 6, 10],\n",
       "                         'min_samples_split': [2, 3, 5, 7, 10]},\n",
       "             return_train_score=True, scoring='accuracy')"
      ]
     },
     "execution_count": 16,
     "metadata": {},
     "output_type": "execute_result"
    }
   ],
   "source": [
    "from sklearn.model_selection import GridSearchCV\n",
    "\n",
    "# Karar ağacı modelini tanımlayalım\n",
    "model = DecisionTreeClassifier(random_state=23)\n",
    "\n",
    "# Parametre aralıklarını belirleyelim\n",
    "param_grid = {\n",
    "    'max_depth': [None, 10, 20, 30, 50, 75],\n",
    "    'min_samples_split': [2, 3, 5, 7, 10],\n",
    "    'min_samples_leaf': [1, 2, 4, 6, 10],\n",
    "    'max_features': [None, 'sqrt', 'log2', 2, 3, 4, 5]\n",
    "}\n",
    "\n",
    "# GridSearchCV kullanarak en iyi parametreleri bulalım\n",
    "grid_search = GridSearchCV(model, param_grid, cv=5, scoring='accuracy', return_train_score=True)\n",
    "grid_search.fit(X, y)"
   ]
  },
  {
   "cell_type": "code",
   "execution_count": 17,
   "metadata": {},
   "outputs": [
    {
     "name": "stdout",
     "output_type": "stream",
     "text": [
      "En iyi parametreler: {'max_depth': 10, 'max_features': 3, 'min_samples_leaf': 6, 'min_samples_split': 2}\n"
     ]
    }
   ],
   "source": [
    "print(\"En iyi parametreler:\", grid_search.best_params_)\n"
   ]
  },
  {
   "cell_type": "code",
   "execution_count": 18,
   "metadata": {},
   "outputs": [],
   "source": [
    "tuned_model = grid_search.best_estimator_\n",
    "\n",
    "cv_results = cross_validate(tuned_model, X, y, cv=5, return_train_score=True)"
   ]
  },
  {
   "cell_type": "code",
   "execution_count": 20,
   "metadata": {},
   "outputs": [
    {
     "name": "stdout",
     "output_type": "stream",
     "text": [
      "Test Seti Accuracy Skorları: [0.35680122 0.31772312 0.31217807 0.35167665 0.37460251]\n",
      "Test Seti Accuracy Ortalaması:  0.34\n",
      "Eğitim Seti Accuracy Skorları: [0.47076678 0.47689659 0.47091789 0.47026089 0.46100074]\n",
      "Eğitim Seti Accuracy Ortalaması:  0.47\n"
     ]
    }
   ],
   "source": [
    "# Eğitim (train) skorlarını bastıralım\n",
    "# Test seti üzerindeki skorlar\n",
    "test_scores = cv_results['test_score']\n",
    "print(\"Test Seti Accuracy Skorları:\", test_scores)\n",
    "print('Test Seti Accuracy Ortalaması: ',round(test_scores.mean(), 2))\n",
    "\n",
    "# Eğitim seti üzerindeki skorlar\n",
    "train_scores = cv_results['train_score']\n",
    "print(\"Eğitim Seti Accuracy Skorları:\", train_scores)\n",
    "print('Eğitim Seti Accuracy Ortalaması: ',round(train_scores.mean(), 2))"
   ]
  },
  {
   "cell_type": "markdown",
   "metadata": {},
   "source": [
    "Bu şekilde de underfit olayını gözlemlemiş oluyoruz. Her ne kadar model, test setindeki en iyi doğruluk \"accuracy\" değeri için optimize edilse de. Parametre manipulasyonu sonucunda yeterince öğrenemiyor. \n",
    "\n",
    "Decision tree algoritmasını böylece uygulamış olduk, sonuçlar kesinlikle tatmin edici değil. Bu durum algoritmanın zayıflığından mı kaynaklanıyor? Bunu test edebilmek adına farklı algoritmalar denenecektir. Sırasıyla:\n",
    "- Random Forest\n",
    "- LGBM\n",
    "- Catboost\n",
    "Algoritmaları veri seti üzerinde uygulanacaktır. \n",
    "\n",
    "Bu algoritmaların seçilmesinin altında yatan temel sebep, One-Hot Encoding gerektirmiyor olmalarıdır. Böylece boyut laneti ile karşı karşı kalmayacağımızı umuyoruz.\n"
   ]
  },
  {
   "cell_type": "markdown",
   "metadata": {},
   "source": [
    "## Model: Random Forest"
   ]
  },
  {
   "cell_type": "code",
   "execution_count": 19,
   "metadata": {},
   "outputs": [],
   "source": [
    "from sklearn.ensemble import RandomForestClassifier"
   ]
  },
  {
   "cell_type": "code",
   "execution_count": 23,
   "metadata": {},
   "outputs": [],
   "source": [
    "\n",
    "rf_classifier = RandomForestClassifier(n_estimators=100, random_state=42)\n",
    "\n",
    "cv_results = cross_validate(rf_classifier, X, y, cv=5, scoring='accuracy', return_train_score=True)"
   ]
  },
  {
   "cell_type": "code",
   "execution_count": 24,
   "metadata": {},
   "outputs": [
    {
     "name": "stdout",
     "output_type": "stream",
     "text": [
      "Test Seti Accuracy Skorları: [0.31948386 0.26587302 0.24479659 0.27641123 0.3480329 ]\n",
      "Test Seti Accuracy Ortalaması:  0.29\n",
      "Eğitim Seti Accuracy Skorları: [0.82229464 0.81406243 0.8195221  0.82718272 0.82037081]\n",
      "Eğitim Seti Accuracy Ortalaması:  0.82\n"
     ]
    }
   ],
   "source": [
    "# Eğitim (train) skorlarını bastıralım\n",
    "test_scores = cv_results['test_score']\n",
    "print(\"Test Seti Accuracy Skorları:\", test_scores)\n",
    "print('Test Seti Accuracy Ortalaması: ',round(test_scores.mean(), 2))\n",
    "\n",
    "# Eğitim seti üzerindeki skorlar\n",
    "train_scores = cv_results['train_score']\n",
    "print(\"Eğitim Seti Accuracy Skorları:\", train_scores)\n",
    "print('Eğitim Seti Accuracy Ortalaması: ',round(train_scores.mean(), 2))"
   ]
  },
  {
   "cell_type": "code",
   "execution_count": 25,
   "metadata": {},
   "outputs": [],
   "source": [
    "from sklearn.metrics import make_scorer, accuracy_score, precision_score, recall_score, f1_score\n",
    "\n",
    "\n",
    "scoring = {\n",
    "    'accuracy': make_scorer(accuracy_score),\n",
    "    'precision': make_scorer(precision_score, average='weighted'),\n",
    "    'recall': make_scorer(recall_score, average='weighted'),\n",
    "    'f1': make_scorer(f1_score, average='weighted')\n",
    "}\n",
    "\n",
    "cv_results = cross_validate(rf_classifier, X, y, cv=5, scoring=scoring, return_train_score=True)"
   ]
  },
  {
   "cell_type": "code",
   "execution_count": 26,
   "metadata": {},
   "outputs": [
    {
     "name": "stdout",
     "output_type": "stream",
     "text": [
      "Test Set Accuracy Scores: [0.31948386 0.26587302 0.24479659 0.27641123 0.3480329 ]\n",
      "Test Set Accuracy Mean: 0.29\n",
      "Test Set Precision Scores: [0.33102297 0.23948895 0.24643355 0.27932497 0.37479418]\n",
      "Test Set Precision Mean: 0.29\n",
      "Test Set Recall Scores: [0.31948386 0.26587302 0.24479659 0.27641123 0.3480329 ]\n",
      "Test Set Recall Mean: 0.29\n",
      "Test Set F1 Scores: [0.2945065  0.23758738 0.24355534 0.27675345 0.34853656]\n",
      "Test Set F1 Mean: 0.28\n"
     ]
    }
   ],
   "source": [
    "# Display the results\n",
    "print(\"Test Set Accuracy Scores:\", cv_results['test_accuracy'])\n",
    "print('Test Set Accuracy Mean:', round(cv_results['test_accuracy'].mean(), 2))\n",
    "\n",
    "print(\"Test Set Precision Scores:\", cv_results['test_precision'])\n",
    "print('Test Set Precision Mean:', round(cv_results['test_precision'].mean(), 2))\n",
    "\n",
    "print(\"Test Set Recall Scores:\", cv_results['test_recall'])\n",
    "print('Test Set Recall Mean:', round(cv_results['test_recall'].mean(), 2))\n",
    "\n",
    "print(\"Test Set F1 Scores:\", cv_results['test_f1'])\n",
    "print('Test Set F1 Mean:', round(cv_results['test_f1'].mean(), 2))"
   ]
  },
  {
   "cell_type": "markdown",
   "metadata": {},
   "source": [
    "Model zaten baya kötü performans gösterdiği için bu metrikler de bir şey ifade etmiyor."
   ]
  },
  {
   "cell_type": "markdown",
   "metadata": {},
   "source": [
    "### Random Forest Model Tune"
   ]
  },
  {
   "cell_type": "code",
   "execution_count": 28,
   "metadata": {},
   "outputs": [
    {
     "data": {
      "text/html": [
       "<style>#sk-container-id-4 {color: black;}#sk-container-id-4 pre{padding: 0;}#sk-container-id-4 div.sk-toggleable {background-color: white;}#sk-container-id-4 label.sk-toggleable__label {cursor: pointer;display: block;width: 100%;margin-bottom: 0;padding: 0.3em;box-sizing: border-box;text-align: center;}#sk-container-id-4 label.sk-toggleable__label-arrow:before {content: \"▸\";float: left;margin-right: 0.25em;color: #696969;}#sk-container-id-4 label.sk-toggleable__label-arrow:hover:before {color: black;}#sk-container-id-4 div.sk-estimator:hover label.sk-toggleable__label-arrow:before {color: black;}#sk-container-id-4 div.sk-toggleable__content {max-height: 0;max-width: 0;overflow: hidden;text-align: left;background-color: #f0f8ff;}#sk-container-id-4 div.sk-toggleable__content pre {margin: 0.2em;color: black;border-radius: 0.25em;background-color: #f0f8ff;}#sk-container-id-4 input.sk-toggleable__control:checked~div.sk-toggleable__content {max-height: 200px;max-width: 100%;overflow: auto;}#sk-container-id-4 input.sk-toggleable__control:checked~label.sk-toggleable__label-arrow:before {content: \"▾\";}#sk-container-id-4 div.sk-estimator input.sk-toggleable__control:checked~label.sk-toggleable__label {background-color: #d4ebff;}#sk-container-id-4 div.sk-label input.sk-toggleable__control:checked~label.sk-toggleable__label {background-color: #d4ebff;}#sk-container-id-4 input.sk-hidden--visually {border: 0;clip: rect(1px 1px 1px 1px);clip: rect(1px, 1px, 1px, 1px);height: 1px;margin: -1px;overflow: hidden;padding: 0;position: absolute;width: 1px;}#sk-container-id-4 div.sk-estimator {font-family: monospace;background-color: #f0f8ff;border: 1px dotted black;border-radius: 0.25em;box-sizing: border-box;margin-bottom: 0.5em;}#sk-container-id-4 div.sk-estimator:hover {background-color: #d4ebff;}#sk-container-id-4 div.sk-parallel-item::after {content: \"\";width: 100%;border-bottom: 1px solid gray;flex-grow: 1;}#sk-container-id-4 div.sk-label:hover label.sk-toggleable__label {background-color: #d4ebff;}#sk-container-id-4 div.sk-serial::before {content: \"\";position: absolute;border-left: 1px solid gray;box-sizing: border-box;top: 0;bottom: 0;left: 50%;z-index: 0;}#sk-container-id-4 div.sk-serial {display: flex;flex-direction: column;align-items: center;background-color: white;padding-right: 0.2em;padding-left: 0.2em;position: relative;}#sk-container-id-4 div.sk-item {position: relative;z-index: 1;}#sk-container-id-4 div.sk-parallel {display: flex;align-items: stretch;justify-content: center;background-color: white;position: relative;}#sk-container-id-4 div.sk-item::before, #sk-container-id-4 div.sk-parallel-item::before {content: \"\";position: absolute;border-left: 1px solid gray;box-sizing: border-box;top: 0;bottom: 0;left: 50%;z-index: -1;}#sk-container-id-4 div.sk-parallel-item {display: flex;flex-direction: column;z-index: 1;position: relative;background-color: white;}#sk-container-id-4 div.sk-parallel-item:first-child::after {align-self: flex-end;width: 50%;}#sk-container-id-4 div.sk-parallel-item:last-child::after {align-self: flex-start;width: 50%;}#sk-container-id-4 div.sk-parallel-item:only-child::after {width: 0;}#sk-container-id-4 div.sk-dashed-wrapped {border: 1px dashed gray;margin: 0 0.4em 0.5em 0.4em;box-sizing: border-box;padding-bottom: 0.4em;background-color: white;}#sk-container-id-4 div.sk-label label {font-family: monospace;font-weight: bold;display: inline-block;line-height: 1.2em;}#sk-container-id-4 div.sk-label-container {text-align: center;}#sk-container-id-4 div.sk-container {/* jupyter's `normalize.less` sets `[hidden] { display: none; }` but bootstrap.min.css set `[hidden] { display: none !important; }` so we also need the `!important` here to be able to override the default hidden behavior on the sphinx rendered scikit-learn.org. See: https://github.com/scikit-learn/scikit-learn/issues/21755 */display: inline-block !important;position: relative;}#sk-container-id-4 div.sk-text-repr-fallback {display: none;}</style><div id=\"sk-container-id-4\" class=\"sk-top-container\"><div class=\"sk-text-repr-fallback\"><pre>GridSearchCV(cv=5,\n",
       "             estimator=RandomForestClassifier(n_estimators=20, random_state=42),\n",
       "             param_grid={&#x27;max_depth&#x27;: [5, 10, 20],\n",
       "                         &#x27;max_features&#x27;: [&#x27;sqrt&#x27;, &#x27;log2&#x27;, 3, 5],\n",
       "                         &#x27;min_samples_leaf&#x27;: [2, 4, 5],\n",
       "                         &#x27;min_samples_split&#x27;: [2, 3, 5]},\n",
       "             return_train_score=True, scoring=&#x27;accuracy&#x27;)</pre><b>In a Jupyter environment, please rerun this cell to show the HTML representation or trust the notebook. <br />On GitHub, the HTML representation is unable to render, please try loading this page with nbviewer.org.</b></div><div class=\"sk-container\" hidden><div class=\"sk-item sk-dashed-wrapped\"><div class=\"sk-label-container\"><div class=\"sk-label sk-toggleable\"><input class=\"sk-toggleable__control sk-hidden--visually\" id=\"sk-estimator-id-8\" type=\"checkbox\" ><label for=\"sk-estimator-id-8\" class=\"sk-toggleable__label sk-toggleable__label-arrow\">GridSearchCV</label><div class=\"sk-toggleable__content\"><pre>GridSearchCV(cv=5,\n",
       "             estimator=RandomForestClassifier(n_estimators=20, random_state=42),\n",
       "             param_grid={&#x27;max_depth&#x27;: [5, 10, 20],\n",
       "                         &#x27;max_features&#x27;: [&#x27;sqrt&#x27;, &#x27;log2&#x27;, 3, 5],\n",
       "                         &#x27;min_samples_leaf&#x27;: [2, 4, 5],\n",
       "                         &#x27;min_samples_split&#x27;: [2, 3, 5]},\n",
       "             return_train_score=True, scoring=&#x27;accuracy&#x27;)</pre></div></div></div><div class=\"sk-parallel\"><div class=\"sk-parallel-item\"><div class=\"sk-item\"><div class=\"sk-label-container\"><div class=\"sk-label sk-toggleable\"><input class=\"sk-toggleable__control sk-hidden--visually\" id=\"sk-estimator-id-9\" type=\"checkbox\" ><label for=\"sk-estimator-id-9\" class=\"sk-toggleable__label sk-toggleable__label-arrow\">estimator: RandomForestClassifier</label><div class=\"sk-toggleable__content\"><pre>RandomForestClassifier(n_estimators=20, random_state=42)</pre></div></div></div><div class=\"sk-serial\"><div class=\"sk-item\"><div class=\"sk-estimator sk-toggleable\"><input class=\"sk-toggleable__control sk-hidden--visually\" id=\"sk-estimator-id-10\" type=\"checkbox\" ><label for=\"sk-estimator-id-10\" class=\"sk-toggleable__label sk-toggleable__label-arrow\">RandomForestClassifier</label><div class=\"sk-toggleable__content\"><pre>RandomForestClassifier(n_estimators=20, random_state=42)</pre></div></div></div></div></div></div></div></div></div></div>"
      ],
      "text/plain": [
       "GridSearchCV(cv=5,\n",
       "             estimator=RandomForestClassifier(n_estimators=20, random_state=42),\n",
       "             param_grid={'max_depth': [5, 10, 20],\n",
       "                         'max_features': ['sqrt', 'log2', 3, 5],\n",
       "                         'min_samples_leaf': [2, 4, 5],\n",
       "                         'min_samples_split': [2, 3, 5]},\n",
       "             return_train_score=True, scoring='accuracy')"
      ]
     },
     "execution_count": 28,
     "metadata": {},
     "output_type": "execute_result"
    }
   ],
   "source": [
    "# Karar ağacı modelini tanımlayalım\n",
    "rf_classifier = RandomForestClassifier(n_estimators=20, random_state=42)\n",
    "\n",
    "# Parametre aralıklarını belirleyelim\n",
    "param_grid = {\n",
    "    'max_depth': [5, 10, 20],\n",
    "    'min_samples_split': [2, 3, 5],\n",
    "    'min_samples_leaf': [2, 4, 5],\n",
    "    'max_features': ['sqrt', 'log2', 3, 5]\n",
    "}\n",
    "\n",
    "# GridSearchCV kullanarak en iyi parametreleri bulalım\n",
    "grid_search = GridSearchCV(rf_classifier, param_grid, cv=5, scoring='accuracy', return_train_score=True)\n",
    "grid_search.fit(X, y)"
   ]
  },
  {
   "cell_type": "code",
   "execution_count": 29,
   "metadata": {},
   "outputs": [
    {
     "name": "stdout",
     "output_type": "stream",
     "text": [
      "En iyi parametreler: {'max_depth': 5, 'max_features': 'sqrt', 'min_samples_leaf': 5, 'min_samples_split': 2}\n"
     ]
    }
   ],
   "source": [
    "print(\"En iyi parametreler:\", grid_search.best_params_)\n",
    "\n",
    "tuned_model = grid_search.best_estimator_\n",
    "\n",
    "cv_results = cross_validate(tuned_model, X, y, cv=5, return_train_score=True)"
   ]
  },
  {
   "cell_type": "code",
   "execution_count": 30,
   "metadata": {},
   "outputs": [
    {
     "name": "stdout",
     "output_type": "stream",
     "text": [
      "Test Seti Accuracy Skorları: [0.35228109 0.32247976 0.35251761 0.32539683 0.38474679]\n",
      "Test Seti Accuracy Ortalaması:  0.35\n",
      "Eğitim Seti Accuracy Skorları: [0.43091973 0.43695756 0.44344215 0.44315964 0.43533848]\n",
      "Eğitim Seti Accuracy Ortalaması:  0.44\n"
     ]
    }
   ],
   "source": [
    "# Eğitim (train) skorlarını bastıralım\n",
    "test_scores = cv_results['test_score']\n",
    "print(\"Test Seti Accuracy Skorları:\", test_scores)\n",
    "print('Test Seti Accuracy Ortalaması: ',round(test_scores.mean(), 2))\n",
    "\n",
    "# Eğitim seti üzerindeki skorlar\n",
    "train_scores = cv_results['train_score']\n",
    "print(\"Eğitim Seti Accuracy Skorları:\", train_scores)\n",
    "print('Eğitim Seti Accuracy Ortalaması: ',round(train_scores.mean(), 2))"
   ]
  },
  {
   "cell_type": "markdown",
   "metadata": {},
   "source": [
    "Son olarak bir de kendimiz bir model türetmeyi deneyelim."
   ]
  },
  {
   "cell_type": "code",
   "execution_count": 32,
   "metadata": {},
   "outputs": [
    {
     "name": "stdout",
     "output_type": "stream",
     "text": [
      "Test Seti Accuracy Skorları: [0.34071796 0.27115526 0.27365184 0.29054977 0.3365746 ]\n",
      "Test Seti Accuracy Ortalaması:  0.3\n",
      "Eğitim Seti Accuracy Skorları: [0.62395291 0.61955101 0.62100955 0.61917652 0.61408073]\n",
      "Eğitim Seti Accuracy Ortalaması:  0.62\n"
     ]
    }
   ],
   "source": [
    "my_RF_model = RandomForestClassifier(\n",
    "    n_estimators=25, \n",
    "    random_state=42,\n",
    "    max_depth= 20,\n",
    "    max_features='sqrt',\n",
    "    min_samples_leaf = 6,\n",
    "    min_samples_split = 2\n",
    ")\n",
    "\n",
    "cv_results = cross_validate(my_RF_model, X, y, cv=5, return_train_score=True)\n",
    "\n",
    "# Eğitim (train) skorlarını bastıralım\n",
    "test_scores = cv_results['test_score']\n",
    "print(\"Test Seti Accuracy Skorları:\", test_scores)\n",
    "print('Test Seti Accuracy Ortalaması: ',round(test_scores.mean(), 2))\n",
    "\n",
    "# Eğitim seti üzerindeki skorlar\n",
    "train_scores = cv_results['train_score']\n",
    "print(\"Eğitim Seti Accuracy Skorları:\", train_scores)\n",
    "print('Eğitim Seti Accuracy Ortalaması: ',round(train_scores.mean(), 2))"
   ]
  },
  {
   "cell_type": "markdown",
   "metadata": {},
   "source": [
    "Ağaç temelli boosting algoritmaları da denenebilir, lakin modeller random üretilecek sonuçlardan bile kötü çalışmaktadır. Belli ki bir şeyler ters gidiyor. İyisi mi Naive Bayes deneyelim."
   ]
  },
  {
   "cell_type": "code",
   "execution_count": 8,
   "metadata": {},
   "outputs": [
    {
     "data": {
      "text/plain": [
       "(190259, 5)"
      ]
     },
     "execution_count": 8,
     "metadata": {},
     "output_type": "execute_result"
    }
   ],
   "source": [
    "df.shape\n"
   ]
  },
  {
   "cell_type": "code",
   "execution_count": 9,
   "metadata": {},
   "outputs": [
    {
     "data": {
      "text/plain": [
       "OriginAirport_Encoded\n",
       "15     11046\n",
       "75     10860\n",
       "57      8860\n",
       "207     8384\n",
       "74      7197\n",
       "       ...  \n",
       "175       13\n",
       "13        11\n",
       "149        4\n",
       "63         3\n",
       "221        2\n",
       "Name: count, Length: 293, dtype: int64"
      ]
     },
     "execution_count": 9,
     "metadata": {},
     "output_type": "execute_result"
    }
   ],
   "source": [
    "originAirport_counts = df['OriginAirport_Encoded'].value_counts()\n",
    "originAirport_counts"
   ]
  },
  {
   "cell_type": "code",
   "execution_count": 10,
   "metadata": {},
   "outputs": [],
   "source": [
    "selected_list = originAirport_counts[originAirport_counts > 1000].index\n",
    "\n",
    "df2 = df[df['OriginAirport_Encoded'].isin(selected_list)]"
   ]
  },
  {
   "cell_type": "code",
   "execution_count": 11,
   "metadata": {},
   "outputs": [
    {
     "data": {
      "text/plain": [
       "(142723, 5)"
      ]
     },
     "execution_count": 11,
     "metadata": {},
     "output_type": "execute_result"
    }
   ],
   "source": [
    "df2.shape"
   ]
  },
  {
   "cell_type": "code",
   "execution_count": 12,
   "metadata": {},
   "outputs": [
    {
     "data": {
      "text/plain": [
       "Flight_Number_Marketing_Airline\n",
       "2438    182\n",
       "493     165\n",
       "2368    147\n",
       "1129    143\n",
       "2377    143\n",
       "       ... \n",
       "5319      3\n",
       "4688      2\n",
       "3751      2\n",
       "5080      1\n",
       "6196      1\n",
       "Name: count, Length: 2460, dtype: int64"
      ]
     },
     "execution_count": 12,
     "metadata": {},
     "output_type": "execute_result"
    }
   ],
   "source": [
    "flightNumber_counts = df2['Flight_Number_Marketing_Airline'].value_counts()\n",
    "flightNumber_counts"
   ]
  },
  {
   "cell_type": "code",
   "execution_count": 13,
   "metadata": {},
   "outputs": [],
   "source": [
    "selected_list = flightNumber_counts[flightNumber_counts > 100].index\n",
    "\n",
    "df3 = df2[df2['Flight_Number_Marketing_Airline'].isin(selected_list)]"
   ]
  },
  {
   "cell_type": "code",
   "execution_count": 14,
   "metadata": {},
   "outputs": [
    {
     "data": {
      "text/plain": [
       "(14104, 5)"
      ]
     },
     "execution_count": 14,
     "metadata": {},
     "output_type": "execute_result"
    }
   ],
   "source": [
    "df3.shape"
   ]
  },
  {
   "cell_type": "code",
   "execution_count": 15,
   "metadata": {},
   "outputs": [],
   "source": [
    "df3.reset_index(drop=True, inplace=True)"
   ]
  },
  {
   "cell_type": "code",
   "execution_count": 16,
   "metadata": {},
   "outputs": [
    {
     "data": {
      "text/html": [
       "<div>\n",
       "<style scoped>\n",
       "    .dataframe tbody tr th:only-of-type {\n",
       "        vertical-align: middle;\n",
       "    }\n",
       "\n",
       "    .dataframe tbody tr th {\n",
       "        vertical-align: top;\n",
       "    }\n",
       "\n",
       "    .dataframe thead th {\n",
       "        text-align: right;\n",
       "    }\n",
       "</style>\n",
       "<table border=\"1\" class=\"dataframe\">\n",
       "  <thead>\n",
       "    <tr style=\"text-align: right;\">\n",
       "      <th></th>\n",
       "      <th>Flight_Number_Marketing_Airline</th>\n",
       "      <th>AirTime</th>\n",
       "      <th>DepTimeBlk_Encoded</th>\n",
       "      <th>OriginAirport_Encoded</th>\n",
       "      <th>Target</th>\n",
       "    </tr>\n",
       "  </thead>\n",
       "  <tbody>\n",
       "    <tr>\n",
       "      <th>0</th>\n",
       "      <td>1588</td>\n",
       "      <td>39.0</td>\n",
       "      <td>1</td>\n",
       "      <td>33</td>\n",
       "      <td>1</td>\n",
       "    </tr>\n",
       "    <tr>\n",
       "      <th>1</th>\n",
       "      <td>1620</td>\n",
       "      <td>58.0</td>\n",
       "      <td>4</td>\n",
       "      <td>174</td>\n",
       "      <td>0</td>\n",
       "    </tr>\n",
       "    <tr>\n",
       "      <th>2</th>\n",
       "      <td>1623</td>\n",
       "      <td>92.0</td>\n",
       "      <td>9</td>\n",
       "      <td>15</td>\n",
       "      <td>0</td>\n",
       "    </tr>\n",
       "    <tr>\n",
       "      <th>3</th>\n",
       "      <td>1642</td>\n",
       "      <td>154.0</td>\n",
       "      <td>1</td>\n",
       "      <td>81</td>\n",
       "      <td>2</td>\n",
       "    </tr>\n",
       "    <tr>\n",
       "      <th>4</th>\n",
       "      <td>1642</td>\n",
       "      <td>144.0</td>\n",
       "      <td>5</td>\n",
       "      <td>100</td>\n",
       "      <td>2</td>\n",
       "    </tr>\n",
       "    <tr>\n",
       "      <th>...</th>\n",
       "      <td>...</td>\n",
       "      <td>...</td>\n",
       "      <td>...</td>\n",
       "      <td>...</td>\n",
       "      <td>...</td>\n",
       "    </tr>\n",
       "    <tr>\n",
       "      <th>14099</th>\n",
       "      <td>4922</td>\n",
       "      <td>78.0</td>\n",
       "      <td>6</td>\n",
       "      <td>74</td>\n",
       "      <td>0</td>\n",
       "    </tr>\n",
       "    <tr>\n",
       "      <th>14100</th>\n",
       "      <td>4922</td>\n",
       "      <td>71.0</td>\n",
       "      <td>6</td>\n",
       "      <td>74</td>\n",
       "      <td>0</td>\n",
       "    </tr>\n",
       "    <tr>\n",
       "      <th>14101</th>\n",
       "      <td>4922</td>\n",
       "      <td>78.0</td>\n",
       "      <td>6</td>\n",
       "      <td>74</td>\n",
       "      <td>0</td>\n",
       "    </tr>\n",
       "    <tr>\n",
       "      <th>14102</th>\n",
       "      <td>4922</td>\n",
       "      <td>80.0</td>\n",
       "      <td>6</td>\n",
       "      <td>74</td>\n",
       "      <td>0</td>\n",
       "    </tr>\n",
       "    <tr>\n",
       "      <th>14103</th>\n",
       "      <td>4922</td>\n",
       "      <td>80.0</td>\n",
       "      <td>7</td>\n",
       "      <td>74</td>\n",
       "      <td>2</td>\n",
       "    </tr>\n",
       "  </tbody>\n",
       "</table>\n",
       "<p>14104 rows × 5 columns</p>\n",
       "</div>"
      ],
      "text/plain": [
       "       Flight_Number_Marketing_Airline  AirTime  DepTimeBlk_Encoded  \\\n",
       "0                                 1588     39.0                   1   \n",
       "1                                 1620     58.0                   4   \n",
       "2                                 1623     92.0                   9   \n",
       "3                                 1642    154.0                   1   \n",
       "4                                 1642    144.0                   5   \n",
       "...                                ...      ...                 ...   \n",
       "14099                             4922     78.0                   6   \n",
       "14100                             4922     71.0                   6   \n",
       "14101                             4922     78.0                   6   \n",
       "14102                             4922     80.0                   6   \n",
       "14103                             4922     80.0                   7   \n",
       "\n",
       "       OriginAirport_Encoded  Target  \n",
       "0                         33       1  \n",
       "1                        174       0  \n",
       "2                         15       0  \n",
       "3                         81       2  \n",
       "4                        100       2  \n",
       "...                      ...     ...  \n",
       "14099                     74       0  \n",
       "14100                     74       0  \n",
       "14101                     74       0  \n",
       "14102                     74       0  \n",
       "14103                     74       2  \n",
       "\n",
       "[14104 rows x 5 columns]"
      ]
     },
     "execution_count": 16,
     "metadata": {},
     "output_type": "execute_result"
    }
   ],
   "source": [
    "df3"
   ]
  },
  {
   "cell_type": "markdown",
   "metadata": {},
   "source": [
    "Düşük sınıflı değişkenlerden kurtulmuş olmamız gerekirdi. "
   ]
  },
  {
   "cell_type": "code",
   "execution_count": 17,
   "metadata": {},
   "outputs": [],
   "source": [
    "X_ = df3.drop('Target', axis=1).values\n",
    "y_ = df3['Target'].values"
   ]
  },
  {
   "cell_type": "code",
   "execution_count": null,
   "metadata": {},
   "outputs": [],
   "source": [
    "# En iyi parametreler: {'max_depth': 5, 'max_features': 'sqrt', 'min_samples_leaf': 5, 'min_samples_split': 2}"
   ]
  },
  {
   "cell_type": "code",
   "execution_count": 60,
   "metadata": {},
   "outputs": [],
   "source": [
    "modelRF_v2 = RandomForestClassifier(\n",
    "    n_estimators=25,\n",
    "    random_state=42,\n",
    "    max_depth= 20,\n",
    "    max_features='sqrt',\n",
    "    min_samples_leaf=3,\n",
    "    min_samples_split=2\n",
    ")\n",
    "\n",
    "cv_results = cross_validate(modelRF_v2, X_, y_, cv=5, return_train_score=True)"
   ]
  },
  {
   "cell_type": "code",
   "execution_count": 61,
   "metadata": {},
   "outputs": [
    {
     "name": "stdout",
     "output_type": "stream",
     "text": [
      "Test Seti Accuracy Skorları: [0.44062389 0.37575328 0.23431407 0.26019142 0.33510638]\n",
      "Test Seti Accuracy Ortalaması:  0.33\n",
      "Eğitim Seti Accuracy Skorları: [0.6787202  0.6787202  0.68004963 0.69440752 0.67874867]\n",
      "Eğitim Seti Accuracy Ortalaması:  0.68\n"
     ]
    }
   ],
   "source": [
    "# Eğitim (train) skorlarını bastıralım\n",
    "test_scores = cv_results['test_score']\n",
    "print(\"Test Seti Accuracy Skorları:\", test_scores)\n",
    "print('Test Seti Accuracy Ortalaması: ',round(test_scores.mean(), 2))\n",
    "\n",
    "# Eğitim seti üzerindeki skorlar\n",
    "train_scores = cv_results['train_score']\n",
    "print(\"Eğitim Seti Accuracy Skorları:\", train_scores)\n",
    "print('Eğitim Seti Accuracy Ortalaması: ',round(train_scores.mean(), 2))"
   ]
  },
  {
   "cell_type": "code",
   "execution_count": 20,
   "metadata": {},
   "outputs": [],
   "source": [
    "X_train, X_test, y_train, y_test = train_test_split(X_, y_, random_state=30, train_size=0.2)\n",
    "\n",
    "modelRF_v2 = RandomForestClassifier(\n",
    "    n_estimators=20,\n",
    "    random_state=30,\n",
    "    max_depth= 20,\n",
    "    max_features='sqrt',\n",
    "    min_samples_leaf=3,\n",
    "    min_samples_split=2\n",
    ")\n",
    "\n",
    "modelRF_v2.fit(X_train, y_train)\n",
    "\n",
    "y_pred = modelRF_v2.predict(X_test)"
   ]
  },
  {
   "cell_type": "code",
   "execution_count": 21,
   "metadata": {},
   "outputs": [
    {
     "name": "stdout",
     "output_type": "stream",
     "text": [
      "Test Set Accuracy Scores: 0.44080113434952145\n",
      "Test Set Precision Scores: [0.34267134 0.46461187 0.46030099]\n",
      "Test Set Precision Mean: 0.42252806460084535\n",
      "Test Set Recall Scores: [0.24273565 0.43160127 0.5673774 ]\n",
      "Test Set Recall Mean: 0.41390477324380154\n",
      "Test Set F1 Scores: [0.28417341 0.44749863 0.50826091]\n",
      "Test Set F1 Mean: 0.4133109815709584\n"
     ]
    }
   ],
   "source": [
    "# Calculate accuracy\n",
    "accuracy = accuracy_score(y_test, y_pred)\n",
    "print(\"Test Set Accuracy Scores:\", accuracy)\n",
    "\n",
    "# Calculate precision\n",
    "precision_scores = precision_score(y_test, y_pred, average=None)\n",
    "print(\"Test Set Precision Scores:\", precision_scores)\n",
    "print(\"Test Set Precision Mean:\", precision_scores.mean())\n",
    "\n",
    "# Calculate recall\n",
    "recall_scores = recall_score(y_test, y_pred, average=None)\n",
    "print(\"Test Set Recall Scores:\", recall_scores)\n",
    "print(\"Test Set Recall Mean:\", recall_scores.mean())\n",
    "\n",
    "# Calculate F1 score\n",
    "f1_scores = f1_score(y_test, y_pred, average=None)\n",
    "print(\"Test Set F1 Scores:\", f1_scores)\n",
    "print(\"Test Set F1 Mean:\", f1_scores.mean())"
   ]
  },
  {
   "cell_type": "markdown",
   "metadata": {},
   "source": [
    "## Model: LGBM"
   ]
  },
  {
   "cell_type": "code",
   "execution_count": 22,
   "metadata": {},
   "outputs": [
    {
     "name": "stdout",
     "output_type": "stream",
     "text": [
      "[LightGBM] [Info] Auto-choosing col-wise multi-threading, the overhead of testing was 0.000321 seconds.\n",
      "You can set `force_col_wise=true` to remove the overhead.\n",
      "[LightGBM] [Info] Total Bins 437\n",
      "[LightGBM] [Info] Number of data points in the train set: 11283, number of used features: 4\n",
      "[LightGBM] [Info] Start training from score -1.372825\n",
      "[LightGBM] [Info] Start training from score -1.108230\n",
      "[LightGBM] [Info] Start training from score -0.875947\n"
     ]
    }
   ],
   "source": [
    "import lightgbm as lgb\n",
    "\n",
    "X_train, X_test, y_train, y_test = train_test_split(X_, y_, test_size=0.2, random_state=42)\n",
    "\n",
    "\n",
    "lgb_classifier = lgb.LGBMClassifier(n_estimators=50, random_state=30)\n",
    "lgb_classifier.fit(X_train, y_train)\n",
    "\n",
    "y_pred = lgb_classifier.predict(X_test)"
   ]
  },
  {
   "cell_type": "code",
   "execution_count": 23,
   "metadata": {},
   "outputs": [
    {
     "name": "stdout",
     "output_type": "stream",
     "text": [
      "Test Set Accuracy Scores: 0.4835164835164835\n",
      "Test Set Precision Scores: [0.45517241 0.50598086 0.47728614]\n",
      "Test Set Precision Mean: 0.47947980357677933\n",
      "Test Set Recall Scores: [0.19130435 0.44479495 0.68559322]\n",
      "Test Set Recall Mean: 0.440564173615486\n",
      "Test Set F1 Scores: [0.26938776 0.47341914 0.56278261]\n",
      "Test Set F1 Mean: 0.4351965006727247\n"
     ]
    }
   ],
   "source": [
    "# Calculate accuracy\n",
    "accuracy = accuracy_score(y_test, y_pred)\n",
    "print(\"Test Set Accuracy Scores:\", accuracy)\n",
    "\n",
    "# Calculate precision\n",
    "precision_scores = precision_score(y_test, y_pred, average=None)\n",
    "print(\"Test Set Precision Scores:\", precision_scores)\n",
    "print(\"Test Set Precision Mean:\", precision_scores.mean())\n",
    "\n",
    "# Calculate recall\n",
    "recall_scores = recall_score(y_test, y_pred, average=None)\n",
    "print(\"Test Set Recall Scores:\", recall_scores)\n",
    "print(\"Test Set Recall Mean:\", recall_scores.mean())\n",
    "\n",
    "# Calculate F1 score\n",
    "f1_scores = f1_score(y_test, y_pred, average=None)\n",
    "print(\"Test Set F1 Scores:\", f1_scores)\n",
    "print(\"Test Set F1 Mean:\", f1_scores.mean())"
   ]
  },
  {
   "cell_type": "markdown",
   "metadata": {},
   "source": [
    "## Model: CatBoost"
   ]
  },
  {
   "cell_type": "code",
   "execution_count": 24,
   "metadata": {},
   "outputs": [
    {
     "name": "stdout",
     "output_type": "stream",
     "text": [
      "Accuracy: 0.48635235732009924\n"
     ]
    }
   ],
   "source": [
    "from catboost import CatBoostClassifier\n",
    "\n",
    "# Veriyi eğitim ve test setlerine ayırma\n",
    "X_train, X_test, y_train, y_test = train_test_split(X_, y_, test_size=0.2, random_state=42)\n",
    "\n",
    "# CatBoost modelini oluşturma ve eğitme\n",
    "catboost_classifier = CatBoostClassifier(iterations=50, random_state=42, verbose=False)\n",
    "catboost_classifier.fit(X_train, y_train)\n",
    "\n",
    "# Test seti üzerinde tahmin yapma\n",
    "y_pred = catboost_classifier.predict(X_test)\n",
    "\n",
    "# Modelin performansını değerlendirme\n",
    "accuracy = accuracy_score(y_test, y_pred)\n",
    "print(\"Accuracy:\", accuracy)"
   ]
  },
  {
   "cell_type": "code",
   "execution_count": 25,
   "metadata": {},
   "outputs": [
    {
     "name": "stdout",
     "output_type": "stream",
     "text": [
      "Test Set Accuracy Scores: 0.48635235732009924\n",
      "Test Set Precision Scores: [0.4548495  0.50337079 0.48284314]\n",
      "Test Set Precision Mean: 0.4803544740331717\n",
      "Test Set Recall Scores: [0.19710145 0.47108307 0.66779661]\n",
      "Test Set Recall Mean: 0.44532704329900313\n",
      "Test Set F1 Scores: [0.27502528 0.48669202 0.56045519]\n",
      "Test Set F1 Mean: 0.4407241617673033\n"
     ]
    }
   ],
   "source": [
    "# Calculate accuracy\n",
    "accuracy = accuracy_score(y_test, y_pred)\n",
    "print(\"Test Set Accuracy Scores:\", accuracy)\n",
    "\n",
    "# Calculate precision\n",
    "precision_scores = precision_score(y_test, y_pred, average=None)\n",
    "print(\"Test Set Precision Scores:\", precision_scores)\n",
    "print(\"Test Set Precision Mean:\", precision_scores.mean())\n",
    "\n",
    "# Calculate recall\n",
    "recall_scores = recall_score(y_test, y_pred, average=None)\n",
    "print(\"Test Set Recall Scores:\", recall_scores)\n",
    "print(\"Test Set Recall Mean:\", recall_scores.mean())\n",
    "\n",
    "# Calculate F1 score\n",
    "f1_scores = f1_score(y_test, y_pred, average=None)\n",
    "print(\"Test Set F1 Scores:\", f1_scores)\n",
    "print(\"Test Set F1 Mean:\", f1_scores.mean())"
   ]
  }
 ],
 "metadata": {
  "kernelspec": {
   "display_name": "Python 3",
   "language": "python",
   "name": "python3"
  },
  "language_info": {
   "codemirror_mode": {
    "name": "ipython",
    "version": 3
   },
   "file_extension": ".py",
   "mimetype": "text/x-python",
   "name": "python",
   "nbconvert_exporter": "python",
   "pygments_lexer": "ipython3",
   "version": "3.10.10"
  }
 },
 "nbformat": 4,
 "nbformat_minor": 2
}
